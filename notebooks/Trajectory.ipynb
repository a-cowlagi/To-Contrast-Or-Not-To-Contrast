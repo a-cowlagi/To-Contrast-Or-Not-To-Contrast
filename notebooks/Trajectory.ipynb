{
 "cells": [
  {
   "cell_type": "code",
   "execution_count": 2,
   "metadata": {},
   "outputs": [],
   "source": [
    "import sys\n",
    "sys.path.insert(0, \"../\")"
   ]
  },
  {
   "cell_type": "code",
   "execution_count": 3,
   "metadata": {},
   "outputs": [
    {
     "name": "stderr",
     "output_type": "stream",
     "text": [
      "/home/acowlagi/envs/torch_py39/lib/python3.9/site-packages/tqdm/auto.py:22: TqdmWarning: IProgress not found. Please update jupyter and ipywidgets. See https://ipywidgets.readthedocs.io/en/stable/user_install.html\n",
      "  from .autonotebook import tqdm as notebook_tqdm\n"
     ]
    }
   ],
   "source": [
    "from utils.trajectory import project\n",
    "import numpy as np\n",
    "import matplotlib.pyplot as plt\n",
    "from utils.data import Cifar100Dataset\n",
    "import torch"
   ]
  },
  {
   "cell_type": "code",
   "execution_count": 4,
   "metadata": {},
   "outputs": [],
   "source": [
    "def get_probs(fdir, model_name, task_name, seed):\n",
    "    \n",
    "    # load pretraining\n",
    "    pretraining_probs = np.load(f\"{fdir}/pretraining/{task_name}/{model_name}_seed_{seed}/probs.npy\")\n",
    "\n",
    "    # load finetuning\n",
    "    finetuning_probs = np.load(f\"{fdir}/finetuning/{task_name}/{model_name}_seed_{seed}/probs.npy\")\n",
    "\n",
    "    return pretraining_probs, finetuning_probs"
   ]
  },
  {
   "attachments": {},
   "cell_type": "markdown",
   "metadata": {},
   "source": [
    "## Task 0,1,2,3,4"
   ]
  },
  {
   "cell_type": "code",
   "execution_count": 5,
   "metadata": {},
   "outputs": [
    {
     "name": "stdout",
     "output_type": "stream",
     "text": [
      "Files already downloaded and verified\n",
      "Files already downloaded and verified\n"
     ]
    }
   ],
   "source": [
    "task_name = \"0_1_2_3_4\"\n",
    "task_labs = [int(i) for i in task_name.split(\"_\")]\n",
    "\n",
    "dataset = Cifar100Dataset(task_labs, permute= False)\n",
    "trainloader, testloader = dataset.fetch_data_loaders(bs = 256, shuf = False)"
   ]
  },
  {
   "cell_type": "code",
   "execution_count": 6,
   "metadata": {},
   "outputs": [],
   "source": [
    "train_data = torch.cat([batch[1] for batch in trainloader])\n",
    "# create a one-hot encoded tensor from the concatenated tensor\n",
    "all_labels = torch.nn.functional.one_hot(train_data, num_classes=5).numpy()\n"
   ]
  },
  {
   "cell_type": "code",
   "execution_count": 7,
   "metadata": {},
   "outputs": [],
   "source": [
    "fdir=\"../probs/SimCLR\"\n",
    "model_name = \"cifar10_resnet18_lr_0.05_decay_0.0001_bsz_256_temp_0.07_cosine\""
   ]
  },
  {
   "cell_type": "code",
   "execution_count": 8,
   "metadata": {},
   "outputs": [],
   "source": [
    "seed = 0\n",
    "pretraining_probs, finetuning_probs = get_probs(fdir=fdir, model_name=model_name, task_name=task_name, seed=seed)"
   ]
  },
  {
   "cell_type": "code",
   "execution_count": 9,
   "metadata": {},
   "outputs": [],
   "source": [
    "start = np.sqrt(np.zeros_like(all_labels) + 0.2)\n",
    "end = np.sqrt(all_labels)\n",
    "traj = np.sqrt(finetuning_probs)"
   ]
  },
  {
   "cell_type": "code",
   "execution_count": 10,
   "metadata": {},
   "outputs": [],
   "source": [
    "progress = project(traj=traj, start=start, end = end)"
   ]
  },
  {
   "cell_type": "code",
   "execution_count": 11,
   "metadata": {},
   "outputs": [
    {
     "data": {
      "text/plain": [
       "[<matplotlib.lines.Line2D at 0x7fa74eb4e8b0>]"
      ]
     },
     "execution_count": 11,
     "metadata": {},
     "output_type": "execute_result"
    },
    {
     "data": {
      "image/png": "[encoded data removed]",
      "text/plain": [
       "<Figure size 432x288 with 1 Axes>"
      ]
     },
     "metadata": {
      "needs_background": "light"
     },
     "output_type": "display_data"
    }
   ],
   "source": [
    "plt.plot(progress)"
   ]
  },
  {
   "cell_type": "code",
   "execution_count": null,
   "metadata": {},
   "outputs": [],
   "source": []
  }
 ],
 "metadata": {
  "kernelspec": {
   "display_name": "Python 3",
   "language": "python",
   "name": "python3"
  },
  "language_info": {
   "codemirror_mode": {
    "name": "ipython",
    "version": 3
   },
   "file_extension": ".py",
   "mimetype": "text/x-python",
   "name": "python",
   "nbconvert_exporter": "python",
   "pygments_lexer": "ipython3",
   "version": "3.9.12"
  },
  "orig_nbformat": 4,
  "vscode": {
   "interpreter": {
    "hash": "9c794b6cdbaa1d01aff18a50b90737caa3244157ea87ee77df958c2449fba11e"
   }
  }
 },
 "nbformat": 4,
 "nbformat_minor": 2
}
